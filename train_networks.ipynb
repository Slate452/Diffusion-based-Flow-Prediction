{
 "cells": [
  {
   "cell_type": "markdown",
   "metadata": {},
   "source": [
    "# Training of Neural Networks\n",
    "\n",
    "In this notebook, we will show how to train Diffusion models with various configurations using the generated dataset.\n",
    "Load the dataset."
   ]
  },
  {
   "cell_type": "code",
   "execution_count": null,
   "metadata": {},
   "outputs": [],
   "source": [
    "# run this cell to install the required packages and clone the repository if you are using colab\n",
    "%pip install einops bayesian_torch\n",
    "!git clone https://github.com/Slate452/Diffusion-based-Flow-Prediction.git\n",
    "%cd Diffusion-based-Flow-Prediction/"
   ]
  },
  {
   "cell_type": "markdown",
   "metadata": {},
   "source": [
    "# Single Parameter Training"
   ]
  },
  {
   "cell_type": "code",
   "execution_count": null,
   "metadata": {},
   "outputs": [],
   "source": [
    "import zipfile\n",
    "from airfoil_diffusion.airfoil_datasets import *\n",
    "from airfoil_diffusion.networks import *\n",
    "from airfoil_diffusion.trainer import *\n",
    "\n",
    "if not os.path.exists(\"./datasets/1_parameter/data/\"):\n",
    "    files=[file for file in os.listdir(\"./datasets/1_parameter/\") if file.endswith(\".zip\")]\n",
    "    for file in tqdm(files): \n",
    "        f=zipfile.ZipFile(\"./datasets/1_parameter/\"+file,'r')\n",
    "        for file in f.namelist():\n",
    "            f.extract(file,\"./datasets/1_parameter/data/\")\n",
    "        f.close() \n",
    "\n",
    "train_dataset = AirfoilDataset(FileDataFiles(\"./datasets/1_parameter/train_cases.txt\",base_path=\"./datasets/1_parameter/data/\"),\n",
    "                               data_size=32)"
   ]
  },
  {
   "cell_type": "markdown",
   "metadata": {},
   "source": [
    "Import the network, `AifNet`"
   ]
  },
  {
   "cell_type": "code",
   "execution_count": null,
   "metadata": {},
   "outputs": [],
   "source": [
    "AifNet().show_config_options()"
   ]
  },
  {
   "cell_type": "markdown",
   "metadata": {},
   "source": [
    "Set Configurations for the model"
   ]
  },
  {
   "cell_type": "code",
   "execution_count": null,
   "metadata": {},
   "outputs": [],
   "source": [
    "network = AifNet(\"./pre_trained/single_parameter/32/diffusion/network_configs.yaml\",condition_layers=[0,1,2,3])\n",
    "network.show_current_configs()"
   ]
  },
  {
   "cell_type": "markdown",
   "metadata": {},
   "source": [
    "Set up trainer and view Training configurations"
   ]
  },
  {
   "cell_type": "code",
   "execution_count": null,
   "metadata": {},
   "outputs": [],
   "source": [
    "diffusion_trainer=DiffusionTrainer()\n",
    "diffusion_trainer.show_config_options()"
   ]
  },
  {
   "cell_type": "markdown",
   "metadata": {},
   "source": [
    "Train Diffusion Model from scratch"
   ]
  },
  {
   "cell_type": "markdown",
   "metadata": {},
   "source": [
    "* Train the diffusion model:"
   ]
  },
  {
   "cell_type": "code",
   "execution_count": null,
   "metadata": {},
   "outputs": [],
   "source": [
    "diffusion_trainer.train_from_scratch(name=\"diffusion\",\n",
    "                                     network=network,\n",
    "                                     train_dataset=train_dataset,\n",
    "                                     path_config_file=\"./pre_trained/train_configs.yaml\",\n",
    "                                     save_path=\"./training/single_parameter/32/\",)"
   ]
  }
 ],
 "metadata": {
  "kernelspec": {
   "display_name": "Python 3.9.13 ('deepLearning')",
   "language": "python",
   "name": "python3"
  },
  "language_info": {
   "codemirror_mode": {
    "name": "ipython",
    "version": 3
   },
   "file_extension": ".py",
   "mimetype": "text/x-python",
   "name": "python",
   "nbconvert_exporter": "python",
   "pygments_lexer": "ipython3",
   "version": "3.1.-1"
  },
  "vscode": {
   "interpreter": {
    "hash": "ef7c4d1f3df8db587059df561e939e373fe7e11eb2e3f25a593801b878b36bde"
   }
  }
 },
 "nbformat": 4,
 "nbformat_minor": 2
}
